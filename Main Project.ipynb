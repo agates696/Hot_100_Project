{
 "cells": [
  {
   "cell_type": "code",
   "execution_count": 1,
   "metadata": {},
   "outputs": [],
   "source": [
    "import pandas as pd"
   ]
  },
  {
   "cell_type": "code",
   "execution_count": 2,
   "metadata": {},
   "outputs": [],
   "source": [
    "songs = pd.read_csv(\"Data/audio_features3.csv\")"
   ]
  },
  {
   "cell_type": "code",
   "execution_count": 3,
   "metadata": {},
   "outputs": [],
   "source": [
    "cluster_df = songs.drop([\"Unnamed: 0\", \"artist\", \"album\", \"track_name\", \"track_id\"], axis=1)"
   ]
  },
  {
   "cell_type": "code",
   "execution_count": 4,
   "metadata": {},
   "outputs": [
    {
     "data": {
      "text/html": [
       "<div>\n",
       "<style scoped>\n",
       "    .dataframe tbody tr th:only-of-type {\n",
       "        vertical-align: middle;\n",
       "    }\n",
       "\n",
       "    .dataframe tbody tr th {\n",
       "        vertical-align: top;\n",
       "    }\n",
       "\n",
       "    .dataframe thead th {\n",
       "        text-align: right;\n",
       "    }\n",
       "</style>\n",
       "<table border=\"1\" class=\"dataframe\">\n",
       "  <thead>\n",
       "    <tr style=\"text-align: right;\">\n",
       "      <th></th>\n",
       "      <th>Unnamed: 0</th>\n",
       "      <th>artist</th>\n",
       "      <th>album</th>\n",
       "      <th>track_name</th>\n",
       "      <th>track_id</th>\n",
       "      <th>danceability</th>\n",
       "      <th>energy</th>\n",
       "      <th>key</th>\n",
       "      <th>loudness</th>\n",
       "      <th>mode</th>\n",
       "      <th>speechiness</th>\n",
       "      <th>instrumentalness</th>\n",
       "      <th>liveness</th>\n",
       "      <th>valence</th>\n",
       "      <th>tempo</th>\n",
       "      <th>duration_ms</th>\n",
       "      <th>time_signature</th>\n",
       "    </tr>\n",
       "  </thead>\n",
       "  <tbody>\n",
       "    <tr>\n",
       "      <th>0</th>\n",
       "      <td>0</td>\n",
       "      <td>MEDUZA</td>\n",
       "      <td>Paradise</td>\n",
       "      <td>Paradise (feat. Dermot Kennedy)</td>\n",
       "      <td>6ft4hAq6yde8jPZY2i5zLr</td>\n",
       "      <td>0.632</td>\n",
       "      <td>0.595</td>\n",
       "      <td>8</td>\n",
       "      <td>-7.644</td>\n",
       "      <td>0</td>\n",
       "      <td>0.0401</td>\n",
       "      <td>0.000000</td>\n",
       "      <td>0.2090</td>\n",
       "      <td>0.435</td>\n",
       "      <td>124.114</td>\n",
       "      <td>167903</td>\n",
       "      <td>4</td>\n",
       "    </tr>\n",
       "    <tr>\n",
       "      <th>1</th>\n",
       "      <td>1</td>\n",
       "      <td>Ariana Grande</td>\n",
       "      <td>Positions</td>\n",
       "      <td>motive (with Doja Cat)</td>\n",
       "      <td>5GkQIP5mWPi4KZLLXeuFTT</td>\n",
       "      <td>0.789</td>\n",
       "      <td>0.742</td>\n",
       "      <td>10</td>\n",
       "      <td>-5.664</td>\n",
       "      <td>0</td>\n",
       "      <td>0.0652</td>\n",
       "      <td>0.000000</td>\n",
       "      <td>0.1660</td>\n",
       "      <td>0.661</td>\n",
       "      <td>116.965</td>\n",
       "      <td>167990</td>\n",
       "      <td>4</td>\n",
       "    </tr>\n",
       "    <tr>\n",
       "      <th>2</th>\n",
       "      <td>2</td>\n",
       "      <td>Shawn Mendes</td>\n",
       "      <td>Wonder</td>\n",
       "      <td>Wonder</td>\n",
       "      <td>5KCbr5ndeby4y4ggthdiAb</td>\n",
       "      <td>0.333</td>\n",
       "      <td>0.637</td>\n",
       "      <td>1</td>\n",
       "      <td>-4.904</td>\n",
       "      <td>0</td>\n",
       "      <td>0.0581</td>\n",
       "      <td>0.000018</td>\n",
       "      <td>0.1490</td>\n",
       "      <td>0.132</td>\n",
       "      <td>139.898</td>\n",
       "      <td>172693</td>\n",
       "      <td>4</td>\n",
       "    </tr>\n",
       "    <tr>\n",
       "      <th>3</th>\n",
       "      <td>3</td>\n",
       "      <td>The Weeknd</td>\n",
       "      <td>In Your Eyes (Remix)</td>\n",
       "      <td>In Your Eyes (feat. Kenny G) - Remix</td>\n",
       "      <td>1SySkCqhEG6Z68o2n07Bsr</td>\n",
       "      <td>0.606</td>\n",
       "      <td>0.786</td>\n",
       "      <td>7</td>\n",
       "      <td>-3.854</td>\n",
       "      <td>0</td>\n",
       "      <td>0.0366</td>\n",
       "      <td>0.000095</td>\n",
       "      <td>0.0725</td>\n",
       "      <td>0.525</td>\n",
       "      <td>99.969</td>\n",
       "      <td>256551</td>\n",
       "      <td>4</td>\n",
       "    </tr>\n",
       "    <tr>\n",
       "      <th>4</th>\n",
       "      <td>4</td>\n",
       "      <td>Fleetwood Mac</td>\n",
       "      <td>Rumours (Super Deluxe)</td>\n",
       "      <td>Dreams - 2004 Remaster</td>\n",
       "      <td>0ofHAoxe9vBkTCp2UQIavz</td>\n",
       "      <td>0.828</td>\n",
       "      <td>0.492</td>\n",
       "      <td>0</td>\n",
       "      <td>-9.744</td>\n",
       "      <td>1</td>\n",
       "      <td>0.0276</td>\n",
       "      <td>0.004280</td>\n",
       "      <td>0.1280</td>\n",
       "      <td>0.789</td>\n",
       "      <td>120.151</td>\n",
       "      <td>257800</td>\n",
       "      <td>4</td>\n",
       "    </tr>\n",
       "  </tbody>\n",
       "</table>\n",
       "</div>"
      ],
      "text/plain": [
       "   Unnamed: 0         artist                   album  \\\n",
       "0           0         MEDUZA                Paradise   \n",
       "1           1  Ariana Grande               Positions   \n",
       "2           2   Shawn Mendes                  Wonder   \n",
       "3           3     The Weeknd    In Your Eyes (Remix)   \n",
       "4           4  Fleetwood Mac  Rumours (Super Deluxe)   \n",
       "\n",
       "                             track_name                track_id  danceability  \\\n",
       "0       Paradise (feat. Dermot Kennedy)  6ft4hAq6yde8jPZY2i5zLr         0.632   \n",
       "1                motive (with Doja Cat)  5GkQIP5mWPi4KZLLXeuFTT         0.789   \n",
       "2                                Wonder  5KCbr5ndeby4y4ggthdiAb         0.333   \n",
       "3  In Your Eyes (feat. Kenny G) - Remix  1SySkCqhEG6Z68o2n07Bsr         0.606   \n",
       "4                Dreams - 2004 Remaster  0ofHAoxe9vBkTCp2UQIavz         0.828   \n",
       "\n",
       "   energy  key  loudness  mode  speechiness  instrumentalness  liveness  \\\n",
       "0   0.595    8    -7.644     0       0.0401          0.000000    0.2090   \n",
       "1   0.742   10    -5.664     0       0.0652          0.000000    0.1660   \n",
       "2   0.637    1    -4.904     0       0.0581          0.000018    0.1490   \n",
       "3   0.786    7    -3.854     0       0.0366          0.000095    0.0725   \n",
       "4   0.492    0    -9.744     1       0.0276          0.004280    0.1280   \n",
       "\n",
       "   valence    tempo  duration_ms  time_signature  \n",
       "0    0.435  124.114       167903               4  \n",
       "1    0.661  116.965       167990               4  \n",
       "2    0.132  139.898       172693               4  \n",
       "3    0.525   99.969       256551               4  \n",
       "4    0.789  120.151       257800               4  "
      ]
     },
     "execution_count": 4,
     "metadata": {},
     "output_type": "execute_result"
    }
   ],
   "source": [
    "songs.head()"
   ]
  },
  {
   "cell_type": "code",
   "execution_count": 5,
   "metadata": {},
   "outputs": [],
   "source": [
    "from sklearn.preprocessing import StandardScaler"
   ]
  },
  {
   "cell_type": "markdown",
   "metadata": {},
   "source": [
    "FIT / TRANSFORM"
   ]
  },
  {
   "cell_type": "code",
   "execution_count": 6,
   "metadata": {},
   "outputs": [],
   "source": [
    "std_scaler = StandardScaler()"
   ]
  },
  {
   "cell_type": "code",
   "execution_count": 7,
   "metadata": {},
   "outputs": [
    {
     "data": {
      "text/plain": [
       "[[0.24105061405984846,\n",
       "  0.1882609224401516,\n",
       "  0.7749650159405277,\n",
       "  0.2526828423600446,\n",
       "  -1.4653032430322974,\n",
       "  -0.4391244841321525,\n",
       "  -0.4024133902377566,\n",
       "  0.2633685105135327,\n",
       "  -0.24543821333219132,\n",
       "  0.17221038120655255,\n",
       "  -0.6144124658790927,\n",
       "  0.21823153267662962]]"
      ]
     },
     "execution_count": 7,
     "metadata": {},
     "output_type": "execute_result"
    }
   ],
   "source": [
    "scaled_df = std_scaler.fit_transform(cluster_df)\n",
    "[list(pd.DataFrame(scaled_df).loc[0])]"
   ]
  },
  {
   "cell_type": "code",
   "execution_count": 8,
   "metadata": {},
   "outputs": [],
   "source": [
    "from sklearn.cluster import KMeans"
   ]
  },
  {
   "cell_type": "code",
   "execution_count": 9,
   "metadata": {},
   "outputs": [],
   "source": [
    "kmeans = KMeans(n_clusters=8, random_state=1234)\n",
    "kmeans.fit(scaled_df)\n",
    "X = scaled_df"
   ]
  },
  {
   "cell_type": "code",
   "execution_count": 10,
   "metadata": {
    "scrolled": true
   },
   "outputs": [],
   "source": [
    "songs[\"cluster\"] = kmeans.predict(scaled_df)"
   ]
  },
  {
   "cell_type": "code",
   "execution_count": 11,
   "metadata": {},
   "outputs": [],
   "source": [
    "songs = songs.drop([\"Unnamed: 0\"], axis=1)"
   ]
  },
  {
   "cell_type": "code",
   "execution_count": 12,
   "metadata": {},
   "outputs": [],
   "source": [
    "songs.to_csv(\"Data/songs_clusters.csv\")"
   ]
  },
  {
   "cell_type": "code",
   "execution_count": 450,
   "metadata": {},
   "outputs": [],
   "source": [
    "import matplotlib.pyplot as plt\n",
    "import numpy as np\n",
    "%matplotlib inline"
   ]
  },
  {
   "cell_type": "code",
   "execution_count": 451,
   "metadata": {},
   "outputs": [
    {
     "name": "stdout",
     "output_type": "stream",
     "text": [
      "35547.15970028072\n"
     ]
    }
   ],
   "source": [
    "    KMeans(n_clusters=8,\n",
    "                init=\"random\",\n",
    "                n_init=10,  # try with 1, 4, 8, 20, 30, 100...\n",
    "                max_iter=30,\n",
    "                tol=0,\n",
    "                algorithm=\"elkan\",\n",
    "                random_state=1234)\n",
    "kmeans.fit(X)\n",
    "print(kmeans.inertia_)"
   ]
  },
  {
   "cell_type": "code",
   "execution_count": 200,
   "metadata": {},
   "outputs": [
    {
     "data": {
      "text/plain": [
       "Text(0.5, 1.0, 'Elbow Method showing the optimal k')"
      ]
     },
     "execution_count": 200,
     "metadata": {},
     "output_type": "execute_result"
    },
    {
     "data": {
      "image/png": "[encoded data removed]",
      "text/plain": [
       "<Figure size 1152x576 with 1 Axes>"
      ]
     },
     "metadata": {
      "needs_background": "light"
     },
     "output_type": "display_data"
    }
   ],
   "source": [
    "plt.figure(figsize=(16,8))\n",
    "plt.plot(K, inertia, 'bx-')\n",
    "plt.xlabel('k')\n",
    "plt.ylabel('inertia')\n",
    "plt.xticks(np.arange(min(K), max(K)+1, 1.0))\n",
    "plt.title('Elbow Method showing the optimal k')"
   ]
  },
  {
   "cell_type": "code",
   "execution_count": 201,
   "metadata": {},
   "outputs": [
    {
     "data": {
      "text/plain": [
       "Text(0.5, 1.0, 'Elbow Method showing the optimal k')"
      ]
     },
     "execution_count": 201,
     "metadata": {},
     "output_type": "execute_result"
    },
    {
     "data": {
      "image/png": "[encoded data removed]",
      "text/plain": [
       "<Figure size 1152x576 with 1 Axes>"
      ]
     },
     "metadata": {
      "needs_background": "light"
     },
     "output_type": "display_data"
    }
   ],
   "source": [
    "plt.figure(figsize=(16,8))\n",
    "plt.plot(K, inertia, 'bx-')\n",
    "plt.xlabel('k')\n",
    "plt.ylabel('inertia')\n",
    "plt.xticks(np.arange(min(K), max(K)+1, 1.0))\n",
    "plt.title('Elbow Method showing the optimal k')"
   ]
  },
  {
   "cell_type": "markdown",
   "metadata": {},
   "source": [
    "*APP*"
   ]
  },
  {
   "cell_type": "code",
   "execution_count": 13,
   "metadata": {},
   "outputs": [],
   "source": [
    "from bs4 import BeautifulSoup"
   ]
  },
  {
   "cell_type": "code",
   "execution_count": 14,
   "metadata": {},
   "outputs": [],
   "source": [
    "import requests\n",
    "import pandas as pd\n",
    "import random\n",
    "from sklearn import datasets\n",
    "from sklearn.preprocessing import StandardScaler\n",
    "from sklearn.cluster import KMeans\n",
    "import spotipy\n",
    "from spotipy.oauth2 import SpotifyClientCredentials\n",
    "spotify = spotipy.Spotify(client_credentials_manager=SpotifyClientCredentials(\n",
    "    client_id=\"aac1ac9a179f4d02b944ef2bd3ec22ee\",\n",
    "    client_secret=\"6c4b68aad01b4201affc7d7a2d4cbe11\"))"
   ]
  },
  {
   "cell_type": "code",
   "execution_count": 15,
   "metadata": {},
   "outputs": [],
   "source": [
    "cluster1 = pd.read_csv(\"Data/cluster_1.csv\")\n",
    "cluster2 = pd.read_csv(\"Data/cluster_2.csv\")\n",
    "cluster3 = pd.read_csv(\"Data/cluster_3.csv\")\n",
    "cluster4 = pd.read_csv(\"Data/cluster_4.csv\")\n",
    "cluster5 = pd.read_csv(\"Data/cluster_5.csv\")\n",
    "cluster6 = pd.read_csv(\"Data/cluster_6.csv\")\n",
    "cluster7 = pd.read_csv(\"Data/cluster_7.csv\")\n",
    "cluster8 = pd.read_csv(\"Data/cluster_8.csv\")"
   ]
  },
  {
   "cell_type": "code",
   "execution_count": 16,
   "metadata": {},
   "outputs": [],
   "source": [
    "def create_soup(html):\n",
    "    url = html\n",
    "    response = requests.get(url)\n",
    "    soup = BeautifulSoup(response.content, \"html.parser\")\n",
    "    return soup\n",
    "soup = create_soup(\"https://www.billboard.com/charts/hot-100\")"
   ]
  },
  {
   "cell_type": "code",
   "execution_count": 17,
   "metadata": {},
   "outputs": [],
   "source": [
    "def create_list(part_html, soup):\n",
    "    list_name = []\n",
    "    for element in soup.select(part_html):\n",
    "        list_name.append(element.get_text())\n",
    "    return list_name\n",
    "songs = create_list(\".chart-element__information__song\", soup)\n",
    "artists = create_list(\".chart-element__information__artist\", soup)\n",
    "rankLW = create_list(\"span.chart-element__meta.text--center.color--secondary.text--last\", soup)\n",
    "peaks = create_list(\"span.chart-element__meta.text--center.color--secondary.text--peak\", soup)\n",
    "wocs = create_list(\"span.chart-element__meta.text--center.color--secondary.text--week\", soup)"
   ]
  },
  {
   "cell_type": "code",
   "execution_count": 18,
   "metadata": {},
   "outputs": [],
   "source": [
    "dftop100 = pd.DataFrame({\n",
    "    \"Song\": songs,\n",
    "    \"Artist\": artists,\n",
    "    \"Rank Last Week\": rankLW,\n",
    "    \"Peak\": peaks,\n",
    "    \"Weeks on Chart\": wocs})"
   ]
  },
  {
   "cell_type": "code",
   "execution_count": 19,
   "metadata": {},
   "outputs": [],
   "source": [
    "low_top100 = []\n",
    "\n",
    "for song in songs:\n",
    "    low_top100.append(song.lower())"
   ]
  },
  {
   "cell_type": "code",
   "execution_count": 20,
   "metadata": {},
   "outputs": [],
   "source": [
    "def spotify_function():\n",
    "    input_song = str(input(\"Choose a song: \")).lower()\n",
    "    if input_song not in low_top100:\n",
    "        not_100 = spotify.search(q=input_song, limit = 1)\n",
    "    #get features + add to datafram\n",
    "        features = spotify.audio_features(not_100[\"tracks\"][\"items\"][0][\"uri\"])\n",
    "        features_df = pd.DataFrame(features)\n",
    "        features_n = features_df.drop([\"type\",\"id\",\"uri\",\"track_href\",\"analysis_url\"], axis=1)\n",
    "    \n",
    "    #scale dataframe\n",
    "        scaled_input = std_scaler.transform(features_n.drop([\"acousticness\"], axis=1))\n",
    "        prediction = kmeans.predict(scaled_input)\n",
    "        features = spotify.audio_features(not_100[\"tracks\"][\"items\"][0][\"uri\"])\n",
    "        features_df = pd.DataFrame(features)\n",
    "        features_n = features_df.drop([\"type\",\"id\",\"uri\",\"track_href\",\"analysis_url\"], axis=1)\n",
    "        #scale dataframe\n",
    "        scaled_input = std_scaler.transform(features_n.drop([\"acousticness\"], axis=1))\n",
    "        prediction = kmeans.predict(scaled_input)\n",
    "        cluster = prediction[0]\n",
    "        if cluster == 1:\n",
    "            return cluster1[[\"artist\", \"track_name\"]].sample()\n",
    "        elif cluster == 2:\n",
    "            return cluster2[[\"artist\", \"track_name\"]].sample()\n",
    "        elif cluster == 3:\n",
    "            return cluster3[[\"artist\", \"track_name\"]].sample()\n",
    "        elif cluster == 4:\n",
    "            return cluster4[[\"artist\", \"track_name\"]].sample()\n",
    "        elif cluster == 5:\n",
    "            return cluster5[[\"artist\", \"track_name\"]].sample()\n",
    "        elif cluster == 6:\n",
    "            return cluster6[[\"artist\", \"track_name\"]].sample()\n",
    "        elif cluster == 7:\n",
    "            return cluster7[[\"artist\", \"track_name\"]].sample()\n",
    "        elif cluster == 8:\n",
    "            return cluster8[[\"artist\", \"track_name\"]].sample()\n",
    "    else:\n",
    "        random_song = random.sample(songs, k = 1)[0]\n",
    "        print(\"If you like that, you might also like: \" + random_song)\n",
    "        input_like_song = str(input(\"Did we do okay? (Yes/No) \").lower())\n",
    "        if input_like_song == \"yes\":\n",
    "            print(\"Glad we could help! We'll keep 'em coming: \", random.sample(songs, k = 1)[0])\n",
    "            return random_song\n",
    "        if input_like_song == \"no\":\n",
    "            print(\"Sorry about that, we'll use this data to improve our metrics.\")\n",
    "\n"
   ]
  },
  {
   "cell_type": "code",
   "execution_count": 23,
   "metadata": {},
   "outputs": [
    {
     "name": "stdout",
     "output_type": "stream",
     "text": [
      "Choose a song: Umbrella\n"
     ]
    },
    {
     "data": {
      "text/html": [
       "<div>\n",
       "<style scoped>\n",
       "    .dataframe tbody tr th:only-of-type {\n",
       "        vertical-align: middle;\n",
       "    }\n",
       "\n",
       "    .dataframe tbody tr th {\n",
       "        vertical-align: top;\n",
       "    }\n",
       "\n",
       "    .dataframe thead th {\n",
       "        text-align: right;\n",
       "    }\n",
       "</style>\n",
       "<table border=\"1\" class=\"dataframe\">\n",
       "  <thead>\n",
       "    <tr style=\"text-align: right;\">\n",
       "      <th></th>\n",
       "      <th>artist</th>\n",
       "      <th>track_name</th>\n",
       "    </tr>\n",
       "  </thead>\n",
       "  <tbody>\n",
       "    <tr>\n",
       "      <th>95</th>\n",
       "      <td>Danny &amp; The Juniors</td>\n",
       "      <td>At The Hop</td>\n",
       "    </tr>\n",
       "  </tbody>\n",
       "</table>\n",
       "</div>"
      ],
      "text/plain": [
       "                 artist  track_name\n",
       "95  Danny & The Juniors  At The Hop"
      ]
     },
     "execution_count": 23,
     "metadata": {},
     "output_type": "execute_result"
    }
   ],
   "source": [
    "spotify_function()"
   ]
  },
  {
   "cell_type": "code",
   "execution_count": null,
   "metadata": {},
   "outputs": [],
   "source": [
    "   "
   ]
  }
 ],
 "metadata": {
  "kernelspec": {
   "display_name": "Python 3",
   "language": "python",
   "name": "python3"
  },
  "language_info": {
   "codemirror_mode": {
    "name": "ipython",
    "version": 3
   },
   "file_extension": ".py",
   "mimetype": "text/x-python",
   "name": "python",
   "nbconvert_exporter": "python",
   "pygments_lexer": "ipython3",
   "version": "3.8.6"
  }
 },
 "nbformat": 4,
 "nbformat_minor": 4
}
